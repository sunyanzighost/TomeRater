{
 "cells": [
  {
   "cell_type": "code",
   "execution_count": null,
   "metadata": {},
   "outputs": [],
   "source": [
    "class TomeRater():\n",
    "    def __init__(self):\n",
    "        self.users={}\n",
    "        self.books={}\n",
    "    def create_book(self,title,isbn):\n",
    "        return Book(title, isbn)\n",
    "    def create_novel(self,title, author, isbn):\n",
    "        return Fiction(title,author,isbn)\n",
    "    def create_non_fiction(self,title,subject,level,isbn):\n",
    "        return Non_Fiction(title,subject,level,isbn)\n",
    "    def add_book_to_user(self,book,email,rating=None):\n",
    "        if email not in self.users.values():\n",
    "            print('No user with email: {email}'.format(email=email))\n",
    "        else:\n",
    "            User.read_book(book,rating=None)\n",
    "            Book.add_rating(rating)\n",
    "            if book in s\n",
    "    def add_user(self,name,email,books=None):\n",
    "        User(name,email)\n",
    "        if books!=None:\n",
    "            for i in books:\n",
    "                User(name,email).add_book_to_user(i)\n",
    "        \n",
    "        "
   ]
  },
  {
   "cell_type": "code",
   "execution_count": 1,
   "metadata": {},
   "outputs": [],
   "source": [
    "class User():\n",
    "    def __init__(self,name,email):\n",
    "        self.name = name\n",
    "        self.email = email\n",
    "        self.books={}\n",
    "    def get_email(self):\n",
    "        return self.email\n",
    "    def change_email(self,new_email):\n",
    "        self.email = new_email\n",
    "        print('Your email has been updated')\n",
    "    def __repr__(self):\n",
    "        all_books=[]\n",
    "        for key in self.books.keys():\n",
    "            all_books.append(key)\n",
    "        books_read = len(all_books)\n",
    "        return ('User: {name}, email: {email}, books read: {books_read}'.format(name=self.name,email=self.email,books_read=books_read))\n",
    "    def read_book(self, book, rating=None):\n",
    "        self.books[book]=rating\n",
    "    def get_average_rating(self):\n",
    "        total_books=0\n",
    "        total_ratings=0\n",
    "        for values in self.books.values():\n",
    "            total_books+=1\n",
    "            total_ratings+=values\n",
    "        return total_ratings/ total+books"
   ]
  },
  {
   "cell_type": "code",
   "execution_count": null,
   "metadata": {},
   "outputs": [],
   "source": [
    "class Book():\n",
    "    def __init__(self,title,isbn):\n",
    "        self.title=title\n",
    "        self.isbn=isbn\n",
    "        self.ratings=[]\n",
    "    def get_title(self):\n",
    "        return self.title\n",
    "    def get_isbn(self):\n",
    "        return self.isbn\n",
    "    def set_isbn(self,new_isbn):\n",
    "        self.isbn = new_isbn\n",
    "        print('The ISBN of the book has been updated')\n",
    "    def add_rating(self,rating):\n",
    "        if rating >=0 and rating<=4:\n",
    "            self.rating.append(rating)\n",
    "        else:\n",
    "            print('Invalid Rating')\n",
    "    def get_average_rating(self):\n",
    "        total_rating_time=0\n",
    "        total_book_rating=0\n",
    "        for i in self.ratings:\n",
    "            total_rating_time+=1\n",
    "            total_book_rating+=i\n",
    "        return total_book_rating/ total_rating_time\n",
    "    def __hash__(self):\n",
    "        return hash((self.title, self.isbn))\n",
    "        "
   ]
  },
  {
   "cell_type": "code",
   "execution_count": null,
   "metadata": {},
   "outputs": [],
   "source": [
    "class Fiction(Book):\n",
    "    def __init__(self,title,author,isbn):\n",
    "        super().__init__(title,isbn)\n",
    "        self.author = author\n",
    "    def get_author(self):\n",
    "        return self.author\n",
    "    def __repr__(self):\n",
    "        return ('{title} by {author}'.format(title = self.title, author=self.author))"
   ]
  },
  {
   "cell_type": "code",
   "execution_count": null,
   "metadata": {},
   "outputs": [],
   "source": [
    "class Non_Fiction(Book):\n",
    "    def __init__(self,title,subject, level,isbn):\n",
    "        super().__init__(title,isbn)\n",
    "        self.subject = subject\n",
    "        self.level = level\n",
    "    def get_subject(self):\n",
    "        return self.subject\n",
    "    def get_level(self):\n",
    "        return self.level\n",
    "    def __repr__(self):\n",
    "        return '{title}, a {level} manual on {subject}'.fomrat(title=self.title,level=self.level,subject=self.subject)\n",
    "        "
   ]
  },
  {
   "cell_type": "code",
   "execution_count": null,
   "metadata": {},
   "outputs": [],
   "source": []
  },
  {
   "cell_type": "code",
   "execution_count": null,
   "metadata": {},
   "outputs": [],
   "source": []
  },
  {
   "cell_type": "code",
   "execution_count": null,
   "metadata": {},
   "outputs": [],
   "source": []
  },
  {
   "cell_type": "code",
   "execution_count": null,
   "metadata": {},
   "outputs": [],
   "source": [
    "Tome_Rater = TomeRater()\n",
    "\n",
    "#Create some books:\n",
    "book1 = Tome_Rater.create_book(\"Society of Mind\", 12345678)\n",
    "novel1 = Tome_Rater.create_novel(\"Alice In Wonderland\", \"Lewis Carroll\", 12345)\n",
    "novel1.set_isbn(9781536831139)\n",
    "nonfiction1 = Tome_Rater.create_non_fiction(\"Automate the Boring Stuff\", \"Python\", \"beginner\", 1929452)\n",
    "nonfiction2 = Tome_Rater.create_non_fiction(\"Computing Machinery and Intelligence\", \"AI\", \"advanced\", 11111938)\n",
    "novel2 = Tome_Rater.create_novel(\"The Diamond Age\", \"Neal Stephenson\", 10101010)\n",
    "novel3 = Tome_Rater.create_novel(\"There Will Come Soft Rains\", \"Ray Bradbury\", 10001000)\n",
    "\n",
    "#Create users:\n",
    "Tome_Rater.add_user(\"Alan Turing\", \"alan@turing.com\")\n",
    "Tome_Rater.add_user(\"David Marr\", \"david@computation.org\")\n",
    "\n",
    "#Add a user with three books already read:\n",
    "Tome_Rater.add_user(\"Marvin Minsky\", \"marvin@mit.edu\", user_books=[book1, novel1, nonfiction1])\n",
    "\n",
    "#Add books to a user one by one, with ratings:\n",
    "Tome_Rater.add_book_to_user(book1, \"alan@turing.com\", 1)\n",
    "Tome_Rater.add_book_to_user(novel1, \"alan@turing.com\", 3)\n",
    "Tome_Rater.add_book_to_user(nonfiction1, \"alan@turing.com\", 3)\n",
    "Tome_Rater.add_book_to_user(nonfiction2, \"alan@turing.com\", 4)\n",
    "Tome_Rater.add_book_to_user(novel3, \"alan@turing.com\", 1)\n",
    "\n",
    "Tome_Rater.add_book_to_user(novel2, \"marvin@mit.edu\", 2)\n",
    "Tome_Rater.add_book_to_user(novel3, \"marvin@mit.edu\", 2)\n",
    "Tome_Rater.add_book_to_user(novel3, \"david@computation.org\", 4)"
   ]
  }
 ],
 "metadata": {
  "kernelspec": {
   "display_name": "Python 3",
   "language": "python",
   "name": "python3"
  },
  "language_info": {
   "codemirror_mode": {
    "name": "ipython",
    "version": 3
   },
   "file_extension": ".py",
   "mimetype": "text/x-python",
   "name": "python",
   "nbconvert_exporter": "python",
   "pygments_lexer": "ipython3",
   "version": "3.6.5"
  }
 },
 "nbformat": 4,
 "nbformat_minor": 2
}
